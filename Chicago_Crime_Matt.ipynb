{
 "cells": [
  {
   "cell_type": "code",
   "execution_count": 89,
   "metadata": {},
   "outputs": [],
   "source": [
    "# import dependencies\n",
    "import json\n",
    "import requests\n",
    "import pandas as pd\n",
    "# from config import app_token\n",
    "\n",
    "from api_keys import weather_api_key"
   ]
  },
  {
   "cell_type": "code",
   "execution_count": 73,
   "metadata": {},
   "outputs": [],
   "source": [
    "# read in csv file for crimes from one year prior to present\n",
    "pastyear_data = pd.read_csv(\"Data/crimes_pastyear_topresent.csv\", encoding=\"utf-8\")\n"
   ]
  },
  {
   "cell_type": "code",
   "execution_count": 74,
   "metadata": {},
   "outputs": [],
   "source": [
    "# drop columns that will not be necessary for analysis\n",
    "clean_pastyear = pastyear_data.drop(columns=['BLOCK', ' IUCR', ' SECONDARY DESCRIPTION',' LOCATION DESCRIPTION','ARREST',\n",
    "                                             'DOMESTIC','FBI CD','X COORDINATE','Y COORDINATE','LOCATION'])"
   ]
  },
  {
   "cell_type": "code",
   "execution_count": 75,
   "metadata": {},
   "outputs": [],
   "source": [
    "# rename columns for readability\n",
    "clean_pastyear = clean_pastyear.rename(columns={'CASE#':'CASE #',\n",
    "                                                'DATE  OF OCCURRENCE':'DATE OF OCCURRENCE',\n",
    "                                                ' PRIMARY DESCRIPTION':'PRIMARY DESCRIPTION',\n",
    "                                                'WARD':'DISTRICT #'}\n",
    "                                      )"
   ]
  },
  {
   "cell_type": "code",
   "execution_count": 81,
   "metadata": {},
   "outputs": [
    {
     "data": {
      "text/html": [
       "<div>\n",
       "<style scoped>\n",
       "    .dataframe tbody tr th:only-of-type {\n",
       "        vertical-align: middle;\n",
       "    }\n",
       "\n",
       "    .dataframe tbody tr th {\n",
       "        vertical-align: top;\n",
       "    }\n",
       "\n",
       "    .dataframe thead th {\n",
       "        text-align: right;\n",
       "    }\n",
       "</style>\n",
       "<table border=\"1\" class=\"dataframe\">\n",
       "  <thead>\n",
       "    <tr style=\"text-align: right;\">\n",
       "      <th></th>\n",
       "      <th>CASE #</th>\n",
       "      <th>DATE OF OCCURRENCE</th>\n",
       "      <th>PRIMARY DESCRIPTION</th>\n",
       "      <th>BEAT</th>\n",
       "      <th>DISTRICT #</th>\n",
       "      <th>LATITUDE</th>\n",
       "      <th>LONGITUDE</th>\n",
       "      <th>Year</th>\n",
       "    </tr>\n",
       "  </thead>\n",
       "  <tbody>\n",
       "    <tr>\n",
       "      <th>0</th>\n",
       "      <td>JD424989</td>\n",
       "      <td>11/08/2020 01:22:00 PM</td>\n",
       "      <td>HOMICIDE</td>\n",
       "      <td>831</td>\n",
       "      <td>17.0</td>\n",
       "      <td>41.761848</td>\n",
       "      <td>-87.702741</td>\n",
       "      <td>2020</td>\n",
       "    </tr>\n",
       "    <tr>\n",
       "      <th>1</th>\n",
       "      <td>JD448552</td>\n",
       "      <td>12/03/2020 02:45:00 PM</td>\n",
       "      <td>HOMICIDE</td>\n",
       "      <td>2212</td>\n",
       "      <td>19.0</td>\n",
       "      <td>41.679104</td>\n",
       "      <td>-87.681114</td>\n",
       "      <td>2020</td>\n",
       "    </tr>\n",
       "    <tr>\n",
       "      <th>2</th>\n",
       "      <td>JD240881</td>\n",
       "      <td>05/23/2020 11:53:00 PM</td>\n",
       "      <td>HOMICIDE</td>\n",
       "      <td>1422</td>\n",
       "      <td>26.0</td>\n",
       "      <td>41.910030</td>\n",
       "      <td>-87.713732</td>\n",
       "      <td>2020</td>\n",
       "    </tr>\n",
       "    <tr>\n",
       "      <th>3</th>\n",
       "      <td>JD455780</td>\n",
       "      <td>12/11/2020 04:50:00 AM</td>\n",
       "      <td>HOMICIDE</td>\n",
       "      <td>231</td>\n",
       "      <td>3.0</td>\n",
       "      <td>41.795683</td>\n",
       "      <td>-87.619251</td>\n",
       "      <td>2020</td>\n",
       "    </tr>\n",
       "    <tr>\n",
       "      <th>4</th>\n",
       "      <td>JD425287</td>\n",
       "      <td>11/08/2020 06:39:00 PM</td>\n",
       "      <td>HOMICIDE</td>\n",
       "      <td>612</td>\n",
       "      <td>17.0</td>\n",
       "      <td>41.751583</td>\n",
       "      <td>-87.650128</td>\n",
       "      <td>2020</td>\n",
       "    </tr>\n",
       "  </tbody>\n",
       "</table>\n",
       "</div>"
      ],
      "text/plain": [
       "     CASE #      DATE OF OCCURRENCE PRIMARY DESCRIPTION  BEAT  DISTRICT #  \\\n",
       "0  JD424989  11/08/2020 01:22:00 PM            HOMICIDE   831        17.0   \n",
       "1  JD448552  12/03/2020 02:45:00 PM            HOMICIDE  2212        19.0   \n",
       "2  JD240881  05/23/2020 11:53:00 PM            HOMICIDE  1422        26.0   \n",
       "3  JD455780  12/11/2020 04:50:00 AM            HOMICIDE   231         3.0   \n",
       "4  JD425287  11/08/2020 06:39:00 PM            HOMICIDE   612        17.0   \n",
       "\n",
       "    LATITUDE  LONGITUDE  Year  \n",
       "0  41.761848 -87.702741  2020  \n",
       "1  41.679104 -87.681114  2020  \n",
       "2  41.910030 -87.713732  2020  \n",
       "3  41.795683 -87.619251  2020  \n",
       "4  41.751583 -87.650128  2020  "
      ]
     },
     "execution_count": 81,
     "metadata": {},
     "output_type": "execute_result"
    }
   ],
   "source": [
    "# filter the dataframe to display only homicide incidents\n",
    "homicide_pastyear = clean_pastyear.loc[clean_pastyear['PRIMARY DESCRIPTION'] == 'HOMICIDE']\n",
    "\n",
    "homicide_pastyear = homicide_pastyear.reset_index()\n",
    "\n",
    "del homicide_pastyear['index']\n",
    "\n",
    "# add current year\n",
    "Year = 2020\n",
    "homicide_pastyear['Year'] = Year\n",
    "\n",
    "homicide_pastyear.head()"
   ]
  },
  {
   "cell_type": "code",
   "execution_count": 82,
   "metadata": {},
   "outputs": [],
   "source": [
    "# add 2011 crime data\n",
    "crime_2016 = pd.read_csv(\"Data/Crimes2016.csv\", encoding=\"utf-8\") \n",
    "\n",
    "# remove extra columns\n",
    "clean_2016 = crime_2016.drop(columns=['Block','IUCR','Location Description',\n",
    "                                      'Arrest','Domestic','FBI Code','X Coordinate','Y Coordinate','Location'])\n",
    "\n",
    "# rename so data is consistent\n",
    "clean_2016 = clean_2016.rename(columns={'Case Number':'CASE #',\n",
    "                                        'Date':'Date of Occurance',\n",
    "                                        'Primary Type':'Primary Description',\n",
    "                                        'Ward':'District #'}\n",
    "                              )\n",
    "\n",
    "# filter for homicide\n",
    "homicide_2016 = clean_2016.loc[clean_2016['Primary Description'] == 'HOMICIDE']\n",
    "\n",
    "homicide_2016 = homicide_2016.reset_index()\n",
    "\n",
    "del homicide_2016['index']"
   ]
  },
  {
   "cell_type": "code",
   "execution_count": 83,
   "metadata": {},
   "outputs": [],
   "source": [
    "# add 2011 crime data\n",
    "crime_2011 = pd.read_csv(\"Data/Crimes2011.csv\", encoding=\"utf-8\") \n",
    "\n",
    "# remove extra columns\n",
    "clean_2011 = crime_2011.drop(columns=['Block','IUCR','Location Description','Arrest',\n",
    "                                      'Domestic','FBI Code','X Coordinate','Y Coordinate','Location'])\n",
    "\n",
    "# rename so data is consistent\n",
    "clean_2011 = clean_2011.rename(columns=\n",
    "                                   {'Case Number':'CASE #',\n",
    "                                    'Date':'Date of Occurance',\n",
    "                                    'Primary Type':'Primary Description',\n",
    "                                    'Ward':'District #'})\n",
    "\n",
    "# filter for homicide\n",
    "homicide_2011 = clean_2011.loc[clean_2011['Primary Description'] == 'HOMICIDE']\n",
    "\n",
    "homicide_2011 = homicide_2011.reset_index()\n",
    "\n",
    "del homicide_2011['index']"
   ]
  },
  {
   "cell_type": "code",
   "execution_count": 84,
   "metadata": {},
   "outputs": [
    {
     "data": {
      "text/plain": [
       "2020    813\n",
       "2016    788\n",
       "2011    438\n",
       "Name: Year, dtype: int64"
      ]
     },
     "execution_count": 84,
     "metadata": {},
     "output_type": "execute_result"
    }
   ],
   "source": [
    "# merge dataframes\n",
    "frames = [homicide_2011, homicide_2016, homicide_pastyear]\n",
    "\n",
    "homicide_merge = pd.concat(frames)\n",
    "\n",
    "# check to see all years merged into file\n",
    "check = homicide_merge[\"Year\"].value_counts()\n",
    "check"
   ]
  },
  {
   "cell_type": "code",
   "execution_count": null,
   "metadata": {},
   "outputs": [],
   "source": []
  },
  {
   "cell_type": "code",
   "execution_count": 85,
   "metadata": {},
   "outputs": [],
   "source": [
    "# read in csv file for locations of police stations in Chicago\n",
    "police_stations = pd.read_csv(\"Data/police_stations.csv\")"
   ]
  },
  {
   "cell_type": "code",
   "execution_count": 86,
   "metadata": {},
   "outputs": [],
   "source": [
    "# drop columns that will not be necessary for analysis\n",
    "clean_police_stations = police_stations.drop(columns=['WEBSITE','PHONE','FAX','TTY',\n",
    "                                                      'X COORDINATE','Y COORDINATE','LOCATION'])"
   ]
  },
  {
   "cell_type": "code",
   "execution_count": null,
   "metadata": {},
   "outputs": [],
   "source": []
  },
  {
   "cell_type": "code",
   "execution_count": 91,
   "metadata": {},
   "outputs": [],
   "source": [
    "# Save config information\n",
    "url = \"http://api.openweathermap.org/data/2.5/weather?\"\n",
    "city = \"Chicago\"\n",
    "\n",
    "# Build query URL\n",
    "query_url = url + \"appid=\" + weather_api_key + \"&q=\" + city"
   ]
  },
  {
   "cell_type": "code",
   "execution_count": 92,
   "metadata": {},
   "outputs": [],
   "source": [
    "# Get weather data\n",
    "weather_response = requests.get(query_url)\n",
    "weather_json = weather_response.json()\n",
    "\n",
    "# historical weather in this link is not free, looking for new source"
   ]
  },
  {
   "cell_type": "code",
   "execution_count": null,
   "metadata": {},
   "outputs": [],
   "source": []
  }
 ],
 "metadata": {
  "kernelspec": {
   "display_name": "Python 3",
   "language": "python",
   "name": "python3"
  },
  "language_info": {
   "codemirror_mode": {
    "name": "ipython",
    "version": 3
   },
   "file_extension": ".py",
   "mimetype": "text/x-python",
   "name": "python",
   "nbconvert_exporter": "python",
   "pygments_lexer": "ipython3",
   "version": "3.8.5"
  }
 },
 "nbformat": 4,
 "nbformat_minor": 5
}
