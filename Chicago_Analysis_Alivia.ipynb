{
 "cells": [
  {
   "cell_type": "code",
   "execution_count": 2,
   "id": "13ab2495",
   "metadata": {},
   "outputs": [],
   "source": [
    "# import dependencies\n",
    "import json\n",
    "import requests\n",
    "import pandas as pd\n",
    "import matplotlib.pyplot as plt\n",
    "from api_keys import census_api"
   ]
  },
  {
   "cell_type": "code",
   "execution_count": 3,
   "id": "600819b2",
   "metadata": {},
   "outputs": [
    {
     "data": {
      "text/html": [
       "<div>\n",
       "<style scoped>\n",
       "    .dataframe tbody tr th:only-of-type {\n",
       "        vertical-align: middle;\n",
       "    }\n",
       "\n",
       "    .dataframe tbody tr th {\n",
       "        vertical-align: top;\n",
       "    }\n",
       "\n",
       "    .dataframe thead th {\n",
       "        text-align: right;\n",
       "    }\n",
       "</style>\n",
       "<table border=\"1\" class=\"dataframe\">\n",
       "  <thead>\n",
       "    <tr style=\"text-align: right;\">\n",
       "      <th></th>\n",
       "      <th>CASE #</th>\n",
       "      <th>Date of Occurance</th>\n",
       "      <th>Primary Description</th>\n",
       "      <th>Description</th>\n",
       "      <th>Beat</th>\n",
       "      <th>Ward</th>\n",
       "      <th>Year</th>\n",
       "      <th>Latitude</th>\n",
       "      <th>Longitude</th>\n",
       "    </tr>\n",
       "  </thead>\n",
       "  <tbody>\n",
       "    <tr>\n",
       "      <th>0</th>\n",
       "      <td>HT405253</td>\n",
       "      <td>07/19/2011 04:00:00 PM</td>\n",
       "      <td>HOMICIDE</td>\n",
       "      <td>FIRST DEGREE MURDER</td>\n",
       "      <td>732</td>\n",
       "      <td>6.0</td>\n",
       "      <td>2011</td>\n",
       "      <td>41.766565</td>\n",
       "      <td>-87.638386</td>\n",
       "    </tr>\n",
       "    <tr>\n",
       "      <th>1</th>\n",
       "      <td>HT578691</td>\n",
       "      <td>11/07/2011 12:05:00 PM</td>\n",
       "      <td>HOMICIDE</td>\n",
       "      <td>FIRST DEGREE MURDER</td>\n",
       "      <td>2123</td>\n",
       "      <td>4.0</td>\n",
       "      <td>2011</td>\n",
       "      <td>41.822200</td>\n",
       "      <td>-87.602135</td>\n",
       "    </tr>\n",
       "    <tr>\n",
       "      <th>2</th>\n",
       "      <td>HT576092</td>\n",
       "      <td>11/05/2011 01:50:00 PM</td>\n",
       "      <td>HOMICIDE</td>\n",
       "      <td>FIRST DEGREE MURDER</td>\n",
       "      <td>1122</td>\n",
       "      <td>28.0</td>\n",
       "      <td>2011</td>\n",
       "      <td>41.877169</td>\n",
       "      <td>-87.719061</td>\n",
       "    </tr>\n",
       "    <tr>\n",
       "      <th>3</th>\n",
       "      <td>HT581763</td>\n",
       "      <td>11/09/2011 02:00:00 PM</td>\n",
       "      <td>HOMICIDE</td>\n",
       "      <td>FIRST DEGREE MURDER</td>\n",
       "      <td>522</td>\n",
       "      <td>34.0</td>\n",
       "      <td>2011</td>\n",
       "      <td>41.688889</td>\n",
       "      <td>-87.628242</td>\n",
       "    </tr>\n",
       "    <tr>\n",
       "      <th>4</th>\n",
       "      <td>HT582731</td>\n",
       "      <td>11/10/2011 02:40:00 AM</td>\n",
       "      <td>HOMICIDE</td>\n",
       "      <td>FIRST DEGREE MURDER</td>\n",
       "      <td>614</td>\n",
       "      <td>18.0</td>\n",
       "      <td>2011</td>\n",
       "      <td>41.741304</td>\n",
       "      <td>-87.659690</td>\n",
       "    </tr>\n",
       "  </tbody>\n",
       "</table>\n",
       "</div>"
      ],
      "text/plain": [
       "     CASE #       Date of Occurance Primary Description          Description  \\\n",
       "0  HT405253  07/19/2011 04:00:00 PM            HOMICIDE  FIRST DEGREE MURDER   \n",
       "1  HT578691  11/07/2011 12:05:00 PM            HOMICIDE  FIRST DEGREE MURDER   \n",
       "2  HT576092  11/05/2011 01:50:00 PM            HOMICIDE  FIRST DEGREE MURDER   \n",
       "3  HT581763  11/09/2011 02:00:00 PM            HOMICIDE  FIRST DEGREE MURDER   \n",
       "4  HT582731  11/10/2011 02:40:00 AM            HOMICIDE  FIRST DEGREE MURDER   \n",
       "\n",
       "   Beat  Ward  Year   Latitude  Longitude  \n",
       "0   732   6.0  2011  41.766565 -87.638386  \n",
       "1  2123   4.0  2011  41.822200 -87.602135  \n",
       "2  1122  28.0  2011  41.877169 -87.719061  \n",
       "3   522  34.0  2011  41.688889 -87.628242  \n",
       "4   614  18.0  2011  41.741304 -87.659690  "
      ]
     },
     "execution_count": 3,
     "metadata": {},
     "output_type": "execute_result"
    }
   ],
   "source": [
    "# read in csv file\n",
    "combined_homicide = pd.read_csv(\"Data/homicide.csv\")\n",
    "\n",
    "combined_homicide.head()"
   ]
  },
  {
   "cell_type": "code",
   "execution_count": 8,
   "id": "471dd3ec",
   "metadata": {},
   "outputs": [
    {
     "data": {
      "text/plain": [
       "'161070'"
      ]
     },
     "execution_count": 8,
     "metadata": {},
     "output_type": "execute_result"
    }
   ],
   "source": [
    "# Here we are grabbing poverty data from this census API.\n",
    "# This query returns an estimate number of households with income below the poverty level in Chicago in 2006.\n",
    "poverty_2006_query = f\"https://api.census.gov/data/2006/acs/acs1?get=B17009_002E&for=place:14000&in=state:17&key={census_api}\"\n",
    "\n",
    "poverty_2006_response = requests.get(poverty_2006_query).json()\n",
    "\n",
    "poverty_2006 = poverty_2006_response[1][0]\n",
    "\n",
    "poverty_2006"
   ]
  },
  {
   "cell_type": "code",
   "execution_count": 9,
   "id": "4ec3bc7f",
   "metadata": {},
   "outputs": [
    {
     "data": {
      "text/plain": [
       "'179036'"
      ]
     },
     "execution_count": 9,
     "metadata": {},
     "output_type": "execute_result"
    }
   ],
   "source": [
    "# This query returns an estimate number of households with income below the poverty level in Chicago in 2011.\n",
    "poverty_2011_query = f\"https://api.census.gov/data/2011/acs/acs1?get=B17009_002E&for=place:14000&in=state:17&key={census_api}\"\n",
    "\n",
    "poverty_2011_response = requests.get(poverty_2011_query).json()\n",
    "\n",
    "poverty_2011 = poverty_2011_response[1][0]\n",
    "\n",
    "poverty_2011"
   ]
  },
  {
   "cell_type": "code",
   "execution_count": 10,
   "id": "406acdd5",
   "metadata": {},
   "outputs": [
    {
     "data": {
      "text/plain": [
       "'172571'"
      ]
     },
     "execution_count": 10,
     "metadata": {},
     "output_type": "execute_result"
    }
   ],
   "source": [
    "# This query returns an estimate number of households with income below the poverty level in Chicago in 2016.\n",
    "poverty_2016_query = f\"https://api.census.gov/data/2016/acs/acs1?get=B17009_002E&for=place:14000&in=state:17&key={census_api}\"\n",
    "\n",
    "poverty_2016_response = requests.get(poverty_2016_query).json()\n",
    "\n",
    "poverty_2016 = poverty_2016_response[1][0]\n",
    "\n",
    "poverty_2016"
   ]
  },
  {
   "cell_type": "code",
   "execution_count": null,
   "id": "5eeb7204",
   "metadata": {},
   "outputs": [],
   "source": []
  }
 ],
 "metadata": {
  "kernelspec": {
   "display_name": "Python 3",
   "language": "python",
   "name": "python3"
  },
  "language_info": {
   "codemirror_mode": {
    "name": "ipython",
    "version": 3
   },
   "file_extension": ".py",
   "mimetype": "text/x-python",
   "name": "python",
   "nbconvert_exporter": "python",
   "pygments_lexer": "ipython3",
   "version": "3.6.10"
  }
 },
 "nbformat": 4,
 "nbformat_minor": 5
}
